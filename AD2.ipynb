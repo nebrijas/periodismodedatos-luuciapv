{
 "cells": [
  {
   "cell_type": "markdown",
   "id": "836a125a",
   "metadata": {},
   "source": [
    "# Práctica de Web Scraping"
   ]
  },
  {
   "cell_type": "markdown",
   "id": "0f330d21",
   "metadata": {},
   "source": [
    "## Importar a librerías"
   ]
  },
  {
   "cell_type": "markdown",
   "id": "1d1f4089",
   "metadata": {},
   "source": [
    "\n",
    "Voy a importar de la librería [bs4](https://www.crummy.com/software/BeautifulSoup/bs4/doc/) `BeautifulSoul`"
   ]
  },
  {
   "cell_type": "code",
   "execution_count": 1,
   "id": "45cae8d7",
   "metadata": {},
   "outputs": [],
   "source": [
    "from bs4 import BeautifulSoup"
   ]
  },
  {
   "cell_type": "markdown",
   "id": "30f26c2e",
   "metadata": {},
   "source": [
    "Ahora importo la librería [requests](https://docs.python-requests.org/en/latest/)"
   ]
  },
  {
   "cell_type": "code",
   "execution_count": 2,
   "id": "6367792a",
   "metadata": {},
   "outputs": [],
   "source": [
    "import requests"
   ]
  },
  {
   "cell_type": "markdown",
   "id": "bdd72ecc",
   "metadata": {},
   "source": [
    "## Variables"
   ]
  },
  {
   "cell_type": "markdown",
   "id": "6e721a2e",
   "metadata": {},
   "source": [
    "Explicación de variables"
   ]
  },
  {
   "cell_type": "markdown",
   "id": "2e2baf0c",
   "metadata": {},
   "source": [
    "## Definimos URL"
   ]
  },
  {
   "cell_type": "code",
   "execution_count": 3,
   "id": "d4541cd2",
   "metadata": {},
   "outputs": [],
   "source": [
    "URL = \"https://resultados.elpais.com/deportivos/juegos-olimpicos/medallero/\""
   ]
  },
  {
   "cell_type": "markdown",
   "id": "f8f37651",
   "metadata": {},
   "source": [
    "### Realizamos la petición a la web"
   ]
  },
  {
   "cell_type": "markdown",
   "id": "6b981717",
   "metadata": {},
   "source": [
    "Si el estatus code no es 200 no se puede leer la página"
   ]
  },
  {
   "cell_type": "code",
   "execution_count": 6,
   "id": "7042dbe4",
   "metadata": {},
   "outputs": [
    {
     "name": "stdout",
     "output_type": "stream",
     "text": [
      "Vamos a por ello\n"
     ]
    }
   ],
   "source": [
    "req = requests.get(URL)\n",
    "if (req.status_code != 200):\n",
    "    raise Exception(\"No se puede hacer Web Scraping en\"+ URL)\n",
    "if (req.status_code == 200):\n",
    "    print(\"Vamos a por ello\")"
   ]
  },
  {
   "cell_type": "markdown",
   "id": "f2dbd40f",
   "metadata": {},
   "source": [
    "### De requests a BeuatifulSoup `BeautifulSoup()`"
   ]
  },
  {
   "cell_type": "code",
   "execution_count": 7,
   "id": "d235cbfa",
   "metadata": {},
   "outputs": [],
   "source": [
    " html = BeautifulSoup(req.text, \"html.parser\")"
   ]
  },
  {
   "cell_type": "markdown",
   "id": "7893aab4",
   "metadata": {},
   "source": [
    "### Variables de datos"
   ]
  },
  {
   "cell_type": "markdown",
   "id": "f921c7be",
   "metadata": {},
   "source": [
    "Definimos las variables `paises`, `oros`, `platas`, `bronces`  y al identificamos con la funcion `find_all()`"
   ]
  },
  {
   "cell_type": "code",
   "execution_count": 8,
   "id": "dffc5374",
   "metadata": {},
   "outputs": [],
   "source": [
    "paises = html.find_all(\"th\",{\"class\":\"pais\"})\n",
    "oros = html.find_all(\"td\",{\"class\":\"m_oro\"})\n",
    "platas = html.find_all(\"td\",{\"class\":\"m_plata\"})\n",
    "bronces = html.find_all(\"td\",{\"class\":\"m_bronce\"})\n",
    "totales = html.find_all(\"td\",{\"class\":\"m_total\"})"
   ]
  },
  {
   "cell_type": "markdown",
   "id": "29a166ee",
   "metadata": {},
   "source": [
    "## Hacemos la pregunta"
   ]
  },
  {
   "cell_type": "code",
   "execution_count": null,
   "id": "d05542c7",
   "metadata": {},
   "outputs": [],
   "source": [
    "respuesta=input('¿QUIERES CONOCER LOS 20 PAÍSES QUE HAN OBTENIDO MÁS MEDALLAS EN 2020?\\n \\n Si tu respuesta es Sí, presiona \"s\" \\n')\n",
    "if(respuesta == 's'): \n",
    "  print('Vale, vamos a ello')"
   ]
  },
  {
   "cell_type": "markdown",
   "id": "d6fcb717",
   "metadata": {},
   "source": [
    "## Bucle para obtener los datos"
   ]
  },
  {
   "cell_type": "code",
   "execution_count": 10,
   "id": "c9a63c02",
   "metadata": {},
   "outputs": [
    {
     "name": "stdout",
     "output_type": "stream",
     "text": [
      "1. Estados Unidos \n",
      "Oro: 39 Plata: 41 Bronce: 33 \n",
      " Total: 113 \n",
      " \n",
      "2. China \n",
      "Oro: 38 Plata: 32 Bronce: 18 \n",
      " Total: 88 \n",
      " \n",
      "3. Japón \n",
      "Oro: 27 Plata: 14 Bronce: 17 \n",
      " Total: 58 \n",
      " \n",
      "4. Reino Unido \n",
      "Oro: 22 Plata: 21 Bronce: 22 \n",
      " Total: 65 \n",
      " \n",
      "5. ROC \n",
      "Oro: 20 Plata: 28 Bronce: 23 \n",
      " Total: 71 \n",
      " \n",
      "6. Australia \n",
      "Oro: 17 Plata: 7 Bronce: 22 \n",
      " Total: 46 \n",
      " \n",
      "7. Países Bajos \n",
      "Oro: 10 Plata: 12 Bronce: 14 \n",
      " Total: 36 \n",
      " \n",
      "8. Francia \n",
      "Oro: 10 Plata: 12 Bronce: 11 \n",
      " Total: 33 \n",
      " \n",
      "9. Alemania \n",
      "Oro: 10 Plata: 11 Bronce: 16 \n",
      " Total: 37 \n",
      " \n",
      "10. Italia \n",
      "Oro: 10 Plata: 10 Bronce: 20 \n",
      " Total: 40 \n",
      " \n",
      "11. Canadá \n",
      "Oro: 7 Plata: 6 Bronce: 11 \n",
      " Total: 24 \n",
      " \n",
      "12. Brasil \n",
      "Oro: 7 Plata: 6 Bronce: 8 \n",
      " Total: 21 \n",
      " \n",
      "13. Nueva Zelanda \n",
      "Oro: 7 Plata: 6 Bronce: 7 \n",
      " Total: 20 \n",
      " \n",
      "14. Cuba \n",
      "Oro: 7 Plata: 3 Bronce: 5 \n",
      " Total: 15 \n",
      " \n",
      "15. Hungría \n",
      "Oro: 6 Plata: 7 Bronce: 7 \n",
      " Total: 20 \n",
      " \n",
      "16. Corea del Sur \n",
      "Oro: 6 Plata: 4 Bronce: 10 \n",
      " Total: 20 \n",
      " \n",
      "17. Polonia \n",
      "Oro: 4 Plata: 5 Bronce: 5 \n",
      " Total: 14 \n",
      " \n",
      "18. República Checa \n",
      "Oro: 4 Plata: 4 Bronce: 3 \n",
      " Total: 11 \n",
      " \n",
      "19. Kenia \n",
      "Oro: 4 Plata: 4 Bronce: 2 \n",
      " Total: 10 \n",
      " \n",
      "20. Noruega \n",
      "Oro: 4 Plata: 2 Bronce: 2 \n",
      " Total: 8 \n",
      " \n",
      "Qué lástima, y...\n"
     ]
    }
   ],
   "source": [
    "print('\\nRESULTADOS DE LOS DATOS DE LOS JUEGOS OLÍMPICOS 2020\\n')\n",
    "print ('PAÍSES')\n",
    "for i in range (20):\n",
    "    # Con el método \"getText()\" no nos devuelve el HTML\n",
    "    print(\"%d. %s \\nOro: %s Plata: %s Bronce: %s \\n Total: %s \\n \" % (i+1, paises[i+1].text.strip(),oros[i].text.strip(),platas[i].text.strip(),bronces[i].text.strip(), totales[i].text.strip()))\n",
    "\n",
    "else:\n",
    "  print('Qué lástima, y...')"
   ]
  },
  {
   "cell_type": "code",
   "execution_count": null,
   "id": "34525995",
   "metadata": {},
   "outputs": [],
   "source": []
  }
 ],
 "metadata": {
  "kernelspec": {
   "display_name": "Python 3",
   "language": "python",
   "name": "python3"
  }
 },
 "nbformat": 4,
 "nbformat_minor": 5
}
