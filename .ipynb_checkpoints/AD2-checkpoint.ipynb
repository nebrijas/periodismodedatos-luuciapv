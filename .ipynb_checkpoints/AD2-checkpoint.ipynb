{
 "cells": [
  {
   "cell_type": "markdown",
   "id": "836a125a",
   "metadata": {},
   "source": [
    "# Práctica de Web Scraping"
   ]
  },
  {
   "cell_type": "markdown",
   "id": "0f330d21",
   "metadata": {},
   "source": [
    "## Importar a librerías"
   ]
  },
  {
   "cell_type": "markdown",
   "id": "1d1f4089",
   "metadata": {},
   "source": [
    "\n",
    "Voy a importar de la librería [bs4](https://www.crummy.com/software/BeautifulSoup/bs4/doc/) `BeautifulSoul`"
   ]
  },
  {
   "cell_type": "code",
   "execution_count": null,
   "id": "45cae8d7",
   "metadata": {},
   "outputs": [],
   "source": [
    "from bs4 import BeautifulSoup"
   ]
  },
  {
   "cell_type": "markdown",
   "id": "30f26c2e",
   "metadata": {},
   "source": [
    "Ahora importo la librería [requests](https://docs.python-requests.org/en/latest/)"
   ]
  },
  {
   "cell_type": "code",
   "execution_count": null,
   "id": "6367792a",
   "metadata": {},
   "outputs": [],
   "source": [
    "import requests"
   ]
  },
  {
   "cell_type": "markdown",
   "id": "bdd72ecc",
   "metadata": {},
   "source": [
    "## Variables"
   ]
  },
  {
   "cell_type": "markdown",
   "id": "6e721a2e",
   "metadata": {},
   "source": [
    "Lo que quiere el usuario es conocer cuáles son los países que han obtenido más oros, platas y bronces, las variables son esas. Para lograrlo, necesitamos el HTML del sitio web para saber dónde se encuentran en la red. Le pedimos a través del código quue los obtenga y los recoja de manera ordenada y sea sencillo."
   ]
  },
  {
   "cell_type": "markdown",
   "id": "2e2baf0c",
   "metadata": {},
   "source": [
    "## Definimos URL\n",
    "Definimos el link porque es esencial para que todo funcione. Aquí es dónde realmente se encuentran todos los datos."
   ]
  },
  {
   "cell_type": "code",
   "execution_count": null,
   "id": "d4541cd2",
   "metadata": {},
   "outputs": [],
   "source": [
    "URL = \"https://resultados.elpais.com/deportivos/juegos-olimpicos/medallero/\""
   ]
  },
  {
   "cell_type": "markdown",
   "id": "f8f37651",
   "metadata": {},
   "source": [
    "### Realizamos la petición a la web"
   ]
  },
  {
   "cell_type": "markdown",
   "id": "6b981717",
   "metadata": {},
   "source": [
    "Informar al usuario de que si el estatus code no es 200 no se puede leer la página"
   ]
  },
  {
   "cell_type": "code",
   "execution_count": null,
   "id": "7042dbe4",
   "metadata": {},
   "outputs": [],
   "source": [
    "req = requests.get(URL)\n",
    "if (req.status_code != 200):\n",
    "    raise Exception(\"No se puede hacer Web Scraping en\"+ URL)\n",
    "if (req.status_code == 200):\n",
    "    print(\"Vamos a por ello\")"
   ]
  },
  {
   "cell_type": "markdown",
   "id": "f2dbd40f",
   "metadata": {},
   "source": [
    "### De requests a BeuatifulSoup `BeautifulSoup()`"
   ]
  },
  {
   "cell_type": "code",
   "execution_count": null,
   "id": "d235cbfa",
   "metadata": {},
   "outputs": [],
   "source": [
    " html = BeautifulSoup(req.text, \"html.parser\")"
   ]
  },
  {
   "cell_type": "markdown",
   "id": "7893aab4",
   "metadata": {},
   "source": [
    "### Variables de datos"
   ]
  },
  {
   "cell_type": "markdown",
   "id": "f921c7be",
   "metadata": {},
   "source": [
    "Las variables previamente mencionadas, las definimos `paises`, `oros`, `platas`, `bronces`  y, además, identificamos con la funcion `find_all()` para reunirlas."
   ]
  },
  {
   "cell_type": "code",
   "execution_count": null,
   "id": "dffc5374",
   "metadata": {},
   "outputs": [],
   "source": [
    "paises = html.find_all(\"th\",{\"class\":\"pais\"})\n",
    "oros = html.find_all(\"td\",{\"class\":\"m_oro\"})\n",
    "platas = html.find_all(\"td\",{\"class\":\"m_plata\"})\n",
    "bronces = html.find_all(\"td\",{\"class\":\"m_bronce\"})\n",
    "totales = html.find_all(\"td\",{\"class\":\"m_total\"})"
   ]
  },
  {
   "cell_type": "markdown",
   "id": "29a166ee",
   "metadata": {},
   "source": [
    "## Hacemos la pregunta\n",
    "Escribimos la pregunta en cuestión, en este caso ¿Quieres conocer los 20 países que han obtenido más medallas en 2020?. Y, asimismo, indicamos al usuario qué es lo que tienen que realizar para que funcione, que es presionar a la letra s en el teclado."
   ]
  },
  {
   "cell_type": "code",
   "execution_count": null,
   "id": "d05542c7",
   "metadata": {},
   "outputs": [],
   "source": [
    "respuesta=input('¿QUIERES CONOCER LOS 20 PAÍSES QUE HAN OBTENIDO MÁS MEDALLAS EN 2020?\\n \\n Si tu respuesta es Sí, presiona \"s\" \\n')\n",
    "if(respuesta == 's'): \n",
    "  print('Vale, vamos a ello')"
   ]
  },
  {
   "cell_type": "markdown",
   "id": "d6fcb717",
   "metadata": {},
   "source": [
    "## Bucle para obtener los datos\n",
    "Y el bucle para obtener los datos es el último paso. Sin él no funciona la opción de 'seguir jugando', que en este caso la hemos nombrado como 'Qué lástima, y...'"
   ]
  },
  {
   "cell_type": "code",
   "execution_count": null,
   "id": "c9a63c02",
   "metadata": {},
   "outputs": [],
   "source": [
    "print('\\nRESULTADOS DE LOS DATOS DE LOS JUEGOS OLÍMPICOS 2020\\n')\n",
    "print ('PAÍSES')\n",
    "for i in range (20):\n",
    "    # Con el método \"getText()\" no nos devuelve el HTML\n",
    "    print(\"%d. %s \\nOro: %s Plata: %s Bronce: %s \\n Total: %s \\n \" % (i+1, paises[i+1].text.strip(),oros[i].text.strip(),platas[i].text.strip(),bronces[i].text.strip(), totales[i].text.strip()))\n",
    "\n",
    "else:\n",
    "  print('Qué lástima, y...')"
   ]
  }
 ],
 "metadata": {
  "kernelspec": {
   "display_name": "Python 3",
   "language": "python",
   "name": "python3"
  },
  "language_info": {
   "codemirror_mode": {
    "name": "ipython",
    "version": 3
   },
   "file_extension": ".py",
   "mimetype": "text/x-python",
   "name": "python",
   "nbconvert_exporter": "python",
   "pygments_lexer": "ipython3",
   "version": "3.8.8"
  }
 },
 "nbformat": 4,
 "nbformat_minor": 5
}
